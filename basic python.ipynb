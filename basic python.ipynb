{
 "cells": [
  {
   "cell_type": "code",
   "execution_count": 1,
   "id": "b39ca90d-5246-42cf-b417-fd4acc63c51b",
   "metadata": {},
   "outputs": [
    {
     "name": "stdout",
     "output_type": "stream",
     "text": [
      "      Name   Age  Gender         City   Salary\n",
      "0    Alice  25.0  Female     New York  50000.0\n",
      "1      Bob  30.0    Male  Los Angeles  60000.0\n",
      "2  Charlie  35.0    Male      Chicago  70000.0\n",
      "3      Bob  30.0    Male  Los Angeles  60000.0\n",
      "4    David   NaN    Male      Houston  80000.0\n"
     ]
    }
   ],
   "source": [
    "import pandas as pd\n",
    "#read dataset\n",
    "df = pd.read_csv(\"sample_data.csv\")\n",
    "print(df.head())\n",
    "                 "
   ]
  },
  {
   "cell_type": "code",
   "execution_count": 2,
   "id": "9f2dfa0c-5bc1-4260-b81d-21c4ec8eff5c",
   "metadata": {},
   "outputs": [
    {
     "name": "stdout",
     "output_type": "stream",
     "text": [
      "<class 'pandas.core.frame.DataFrame'>\n",
      "RangeIndex: 10 entries, 0 to 9\n",
      "Data columns (total 5 columns):\n",
      " #   Column  Non-Null Count  Dtype  \n",
      "---  ------  --------------  -----  \n",
      " 0   Name    9 non-null      object \n",
      " 1   Age     9 non-null      float64\n",
      " 2   Gender  10 non-null     object \n",
      " 3   City    10 non-null     object \n",
      " 4   Salary  9 non-null      float64\n",
      "dtypes: float64(2), object(3)\n",
      "memory usage: 532.0+ bytes\n"
     ]
    },
    {
     "data": {
      "text/html": [
       "<div>\n",
       "<style scoped>\n",
       "    .dataframe tbody tr th:only-of-type {\n",
       "        vertical-align: middle;\n",
       "    }\n",
       "\n",
       "    .dataframe tbody tr th {\n",
       "        vertical-align: top;\n",
       "    }\n",
       "\n",
       "    .dataframe thead th {\n",
       "        text-align: right;\n",
       "    }\n",
       "</style>\n",
       "<table border=\"1\" class=\"dataframe\">\n",
       "  <thead>\n",
       "    <tr style=\"text-align: right;\">\n",
       "      <th></th>\n",
       "      <th>Age</th>\n",
       "      <th>Salary</th>\n",
       "    </tr>\n",
       "  </thead>\n",
       "  <tbody>\n",
       "    <tr>\n",
       "      <th>count</th>\n",
       "      <td>9.000000</td>\n",
       "      <td>9.000000e+00</td>\n",
       "    </tr>\n",
       "    <tr>\n",
       "      <th>mean</th>\n",
       "      <td>137.777778</td>\n",
       "      <td>1.057667e+06</td>\n",
       "    </tr>\n",
       "    <tr>\n",
       "      <th>std</th>\n",
       "      <td>323.375083</td>\n",
       "      <td>2.978390e+06</td>\n",
       "    </tr>\n",
       "    <tr>\n",
       "      <th>min</th>\n",
       "      <td>22.000000</td>\n",
       "      <td>5.000000e+04</td>\n",
       "    </tr>\n",
       "    <tr>\n",
       "      <th>25%</th>\n",
       "      <td>29.000000</td>\n",
       "      <td>6.000000e+04</td>\n",
       "    </tr>\n",
       "    <tr>\n",
       "      <th>50%</th>\n",
       "      <td>30.000000</td>\n",
       "      <td>7.000000e+04</td>\n",
       "    </tr>\n",
       "    <tr>\n",
       "      <th>75%</th>\n",
       "      <td>35.000000</td>\n",
       "      <td>7.200000e+04</td>\n",
       "    </tr>\n",
       "    <tr>\n",
       "      <th>max</th>\n",
       "      <td>1000.000000</td>\n",
       "      <td>9.000000e+06</td>\n",
       "    </tr>\n",
       "  </tbody>\n",
       "</table>\n",
       "</div>"
      ],
      "text/plain": [
       "               Age        Salary\n",
       "count     9.000000  9.000000e+00\n",
       "mean    137.777778  1.057667e+06\n",
       "std     323.375083  2.978390e+06\n",
       "min      22.000000  5.000000e+04\n",
       "25%      29.000000  6.000000e+04\n",
       "50%      30.000000  7.000000e+04\n",
       "75%      35.000000  7.200000e+04\n",
       "max    1000.000000  9.000000e+06"
      ]
     },
     "execution_count": 2,
     "metadata": {},
     "output_type": "execute_result"
    }
   ],
   "source": [
    "#check the structure\n",
    "df.shape                 #number of rows and columns\n",
    "df.info()                #datatypes and missing values\n",
    "df.describe()            #"
   ]
  },
  {
   "cell_type": "code",
   "execution_count": 3,
   "id": "5cf64fd2-1f5b-472b-9b88-b1e47c710d77",
   "metadata": {},
   "outputs": [
    {
     "data": {
      "text/plain": [
       "Name      1\n",
       "Age       1\n",
       "Gender    0\n",
       "City      0\n",
       "Salary    1\n",
       "dtype: int64"
      ]
     },
     "execution_count": 3,
     "metadata": {},
     "output_type": "execute_result"
    }
   ],
   "source": [
    "#check and FIX missing values\n",
    "df.isnull().sum()"
   ]
  },
  {
   "cell_type": "code",
   "execution_count": 7,
   "id": "d7f373b6-455a-41a4-b5ed-ed955ec73e65",
   "metadata": {},
   "outputs": [
    {
     "data": {
      "text/html": [
       "<div>\n",
       "<style scoped>\n",
       "    .dataframe tbody tr th:only-of-type {\n",
       "        vertical-align: middle;\n",
       "    }\n",
       "\n",
       "    .dataframe tbody tr th {\n",
       "        vertical-align: top;\n",
       "    }\n",
       "\n",
       "    .dataframe thead th {\n",
       "        text-align: right;\n",
       "    }\n",
       "</style>\n",
       "<table border=\"1\" class=\"dataframe\">\n",
       "  <thead>\n",
       "    <tr style=\"text-align: right;\">\n",
       "      <th></th>\n",
       "      <th>Name</th>\n",
       "      <th>Age</th>\n",
       "      <th>Gender</th>\n",
       "      <th>City</th>\n",
       "      <th>Salary</th>\n",
       "    </tr>\n",
       "  </thead>\n",
       "  <tbody>\n",
       "    <tr>\n",
       "      <th>0</th>\n",
       "      <td>Alice</td>\n",
       "      <td>25.000000</td>\n",
       "      <td>Female</td>\n",
       "      <td>New York</td>\n",
       "      <td>50000.0</td>\n",
       "    </tr>\n",
       "    <tr>\n",
       "      <th>1</th>\n",
       "      <td>Bob</td>\n",
       "      <td>30.000000</td>\n",
       "      <td>Male</td>\n",
       "      <td>Los Angeles</td>\n",
       "      <td>60000.0</td>\n",
       "    </tr>\n",
       "    <tr>\n",
       "      <th>2</th>\n",
       "      <td>Charlie</td>\n",
       "      <td>35.000000</td>\n",
       "      <td>Male</td>\n",
       "      <td>Chicago</td>\n",
       "      <td>70000.0</td>\n",
       "    </tr>\n",
       "    <tr>\n",
       "      <th>3</th>\n",
       "      <td>Bob</td>\n",
       "      <td>30.000000</td>\n",
       "      <td>Male</td>\n",
       "      <td>Los Angeles</td>\n",
       "      <td>60000.0</td>\n",
       "    </tr>\n",
       "    <tr>\n",
       "      <th>4</th>\n",
       "      <td>David</td>\n",
       "      <td>137.777778</td>\n",
       "      <td>Male</td>\n",
       "      <td>Houston</td>\n",
       "      <td>80000.0</td>\n",
       "    </tr>\n",
       "  </tbody>\n",
       "</table>\n",
       "</div>"
      ],
      "text/plain": [
       "      Name         Age  Gender         City   Salary\n",
       "0    Alice   25.000000  Female     New York  50000.0\n",
       "1      Bob   30.000000    Male  Los Angeles  60000.0\n",
       "2  Charlie   35.000000    Male      Chicago  70000.0\n",
       "3      Bob   30.000000    Male  Los Angeles  60000.0\n",
       "4    David  137.777778    Male      Houston  80000.0"
      ]
     },
     "execution_count": 7,
     "metadata": {},
     "output_type": "execute_result"
    }
   ],
   "source": [
    "df['Name'] = df['Name'].fillna(\"Unknown\")\n",
    "df['Age'] = df['Age'].fillna(df['Age'].mean())              #fill with avarage age\n",
    "df['Salary'] = df['Salary'].fillna(df['Salary'].median()) \n",
    "#fill with median salary\n",
    "df.head()"
   ]
  },
  {
   "cell_type": "code",
   "execution_count": 8,
   "id": "ac55c6b9-db69-44e2-bac6-946096696bd5",
   "metadata": {},
   "outputs": [
    {
     "name": "stdout",
     "output_type": "stream",
     "text": [
      "Number of duplicate rows before removing: 1\n"
     ]
    }
   ],
   "source": [
    "#Remove dupilicates\n",
    "duplicate_count = df.duplicated().sum()\n",
    "print(\"Number of duplicate rows before removing:\",duplicate_count)"
   ]
  },
  {
   "cell_type": "code",
   "execution_count": 10,
   "id": "56b8dc92-d6f1-46e7-97d5-ca1594511c59",
   "metadata": {},
   "outputs": [
    {
     "name": "stdout",
     "output_type": "stream",
     "text": [
      "Number of duplicte rows after removing: 1\n"
     ]
    }
   ],
   "source": [
    "duplicate_count_after = df.duplicated().sum()\n",
    "print(\"Number of duplicte rows after removing:\",duplicate_count_after)"
   ]
  },
  {
   "cell_type": "code",
   "execution_count": null,
   "id": "cc9f8131-535f-4485-9db0-e5c7dbd3a826",
   "metadata": {},
   "outputs": [],
   "source": []
  }
 ],
 "metadata": {
  "kernelspec": {
   "display_name": "Python [conda env:base] *",
   "language": "python",
   "name": "conda-base-py"
  },
  "language_info": {
   "codemirror_mode": {
    "name": "ipython",
    "version": 3
   },
   "file_extension": ".py",
   "mimetype": "text/x-python",
   "name": "python",
   "nbconvert_exporter": "python",
   "pygments_lexer": "ipython3",
   "version": "3.13.5"
  }
 },
 "nbformat": 4,
 "nbformat_minor": 5
}
